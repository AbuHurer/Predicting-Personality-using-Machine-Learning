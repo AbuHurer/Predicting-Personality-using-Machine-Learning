{
 "cells": [
  {
   "cell_type": "code",
   "execution_count": 14,
   "id": "cc3eba30-754e-4c2d-8b31-50d927198b64",
   "metadata": {},
   "outputs": [
    {
     "name": "stdout",
     "output_type": "stream",
     "text": [
      "Predicted Personality: Extrovert\n"
     ]
    }
   ],
   "source": [
    "import joblib\n",
    "import numpy as np\n",
    "import pandas as pd\n",
    "\n",
    "# Load model and scaler\n",
    "clf = joblib.load(r'C:\\Users\\saeem\\Desktop\\Introvert\\personality_classifier.pkl')\n",
    "scaler = joblib.load(r'C:\\Users\\saeem\\Desktop\\Introvert\\scaler.pkl')\n",
    "encoder = joblib.load(r'C:\\Users\\saeem\\Desktop\\Introvert\\label_encoder.pkl')\n",
    "feature_columns = joblib.load(r'C:\\Users\\saeem\\Desktop\\Introvert\\feature_columns.pkl')\n",
    "\n",
    "# Recreate column structure used during training\n",
    "feature_columns = ['social_energy', 'alone_time_preference', 'talkativeness', 'deep_reflection', 'group_comfort', \n",
    "                   'party_liking', 'listening_skill', 'empathy', 'creativity', 'organization', 'leadership', 'risk_taking', \n",
    "                   'public_speaking_comfort', 'curiosity', 'routine_preference', 'excitement_seeking', 'friendliness', \n",
    "                   'emotional_stability', 'planning', 'spontaneity', 'adventurousness', 'reading_habit', 'sports_interest', \n",
    "                   'online_social_usage', 'travel_desire', 'gadget_usage', 'work_style_collaborative', 'decision_speed', 'stress_handling']\n",
    "\n",
    "# Input values in same order (sample values)\n",
    "input_data = [[6.79429523,3.854670018,8.725445613,2.515150904,7.097368316,8.588761626,6.774798988,6.430131761,6.142968278,0,\n",
    "               8.486190583,6.888587526,8.618033415,5.514367007,4.247435935,8.916668309,8.370775935,4.919930585,4.426421738,\n",
    "               4.853313459,8.257133815,5.270555286,10,9.154296029,4.816422032,9.191710768,7.313589961,8.032375714,7.176904962\n",
    "]]  # 29 values\n",
    "\n",
    "# Create DataFrame with proper column names\n",
    "input_df = pd.DataFrame(input_data, columns=feature_columns)\n",
    "\n",
    "# Scale\n",
    "input_scaled = scaler.transform(input_df)\n",
    "\n",
    "# Predict\n",
    "pred = clf.predict(input_scaled)\n",
    "pred_label = encoder.inverse_transform(pred)\n",
    "print(f\"Predicted Personality: {pred_label[0]}\")\n"
   ]
  },
  {
   "cell_type": "code",
   "execution_count": null,
   "id": "10c54f14-a6ee-42e6-9119-6984fb2fa507",
   "metadata": {},
   "outputs": [],
   "source": []
  }
 ],
 "metadata": {
  "kernelspec": {
   "display_name": "Python 3 (ipykernel)",
   "language": "python",
   "name": "python3"
  },
  "language_info": {
   "codemirror_mode": {
    "name": "ipython",
    "version": 3
   },
   "file_extension": ".py",
   "mimetype": "text/x-python",
   "name": "python",
   "nbconvert_exporter": "python",
   "pygments_lexer": "ipython3",
   "version": "3.12.4"
  }
 },
 "nbformat": 4,
 "nbformat_minor": 5
}
