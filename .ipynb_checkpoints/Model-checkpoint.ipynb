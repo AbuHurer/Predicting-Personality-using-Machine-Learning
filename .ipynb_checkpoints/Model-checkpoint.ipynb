{
 "cells": [
  {
   "cell_type": "code",
   "execution_count": 19,
   "id": "55718e14-3a7d-407b-ae19-ac175e707904",
   "metadata": {},
   "outputs": [],
   "source": [
    "import pandas as pd\n",
    "import joblib\n",
    "from sklearn.model_selection import train_test_split\n",
    "from sklearn.ensemble import RandomForestClassifier\n",
    "from sklearn.metrics import classification_report\n",
    "\n",
    "# Load data\n",
    "df = pd.read_csv(r'C:\\Users\\saeem\\Desktop\\Introvert\\preprocessed_personality_data.csv')\n",
    "\n",
    "# Preprocessing\n",
    "from sklearn.preprocessing import LabelEncoder, StandardScaler\n",
    "le = LabelEncoder()\n",
    "df['Personality_encoded'] = le.fit_transform(df['personality_type'])\n",
    "X = df.drop(['personality_type', 'Personality_encoded'], axis=1)\n",
    "y = df['Personality_encoded']\n",
    "scaler = StandardScaler()\n",
    "X_scaled = scaler.fit_transform(X)\n",
    "\n",
    "# Train/test split\n",
    "X_train, X_test, y_train, y_test = train_test_split(X_scaled, y, test_size=0.2, random_state=42)\n",
    "\n",
    "# Train model\n",
    "clf = RandomForestClassifier(n_estimators=100, random_state=42)\n",
    "clf.fit(X_train, y_train)\n",
    "\n",
    "# Evaluate\n",
    "y_pred = clf.predict(X_test)\n",
    "report = classification_report(y_test, y_pred, target_names=le.classes_)\n",
    "\n",
    "# Save model and scaler\n",
    "joblib.dump(clf, r'C:\\Users\\saeem\\Desktop\\Introvert\\personality_classifier.pkl')\n",
    "joblib.dump(scaler, r'C:\\Users\\saeem\\Desktop\\Introvert\\scaler.pkl')\n",
    "joblib.dump(le, r'C:\\Users\\saeem\\Desktop\\Introvert\\label_encoder.pkl')\n",
    "joblib.dump(X.columns.tolist(), r'C:\\Users\\saeem\\Desktop\\Introvert\\feature_columns.pkl')\n",
    "\n",
    "# Save report\n",
    "with open(r'C:\\Users\\saeem\\Desktop\\Introvert\\evaluation_report.txt', 'w') as f:\n",
    "    f.write(report)\n"
   ]
  },
  {
   "cell_type": "code",
   "execution_count": 15,
   "id": "36e91967-c366-485a-a3d0-592fb72eb920",
   "metadata": {},
   "outputs": [
    {
     "name": "stdout",
     "output_type": "stream",
     "text": [
      "Feature columns used for training:\n",
      "['social_energy', 'alone_time_preference', 'talkativeness', 'deep_reflection', 'group_comfort', 'party_liking', 'listening_skill', 'empathy', 'creativity', 'organization', 'leadership', 'risk_taking', 'public_speaking_comfort', 'curiosity', 'routine_preference', 'excitement_seeking', 'friendliness', 'emotional_stability', 'planning', 'spontaneity', 'adventurousness', 'reading_habit', 'sports_interest', 'online_social_usage', 'travel_desire', 'gadget_usage', 'work_style_collaborative', 'decision_speed', 'stress_handling']\n"
     ]
    }
   ],
   "source": [
    "print(\"Feature columns used for training:\")\n",
    "print(X.columns.tolist())"
   ]
  },
  {
   "cell_type": "code",
   "execution_count": null,
   "id": "3148521f-7a39-420b-ab22-c5a74919eab8",
   "metadata": {},
   "outputs": [],
   "source": []
  }
 ],
 "metadata": {
  "kernelspec": {
   "display_name": "Python 3 (ipykernel)",
   "language": "python",
   "name": "python3"
  },
  "language_info": {
   "codemirror_mode": {
    "name": "ipython",
    "version": 3
   },
   "file_extension": ".py",
   "mimetype": "text/x-python",
   "name": "python",
   "nbconvert_exporter": "python",
   "pygments_lexer": "ipython3",
   "version": "3.12.4"
  }
 },
 "nbformat": 4,
 "nbformat_minor": 5
}
